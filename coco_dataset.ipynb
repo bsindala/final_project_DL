{
 "cells": [
  {
   "cell_type": "markdown",
   "id": "d782609c",
   "metadata": {},
   "source": [
    "# Download COCO 2017 Dataset"
   ]
  },
  {
   "cell_type": "code",
   "execution_count": null,
   "id": "e07e1a4d",
   "metadata": {},
   "outputs": [],
   "source": [
    "# Data\n",
    "!wget http://images.cocodataset.org/zips/train2017.zip\n",
    "!wget http://images.cocodataset.org/zips/val2017.zip\n",
    "!wget http://images.cocodataset.org/zips/test2017.zip\n",
    "!wget http://images.cocodataset.org/zips/unlabeled2017.zip\n",
    "    \n",
    "# Annotations\n",
    "!wget http://images.cocodataset.org/annotations/annotations_trainval2017.zip\n",
    "!wget http://images.cocodataset.org/annotations/stuff_annotations_trainval2017.zip\n",
    "!wget http://images.cocodataset.org/annotations/image_info_test2017.zip\n",
    "!wget http://images.cocodataset.org/annotations/image_info_unlabeled2017.zip"
   ]
  },
  {
   "cell_type": "markdown",
   "id": "9f8f08f7",
   "metadata": {},
   "source": [
    "## Decompress and Move Datasets\n",
    "Move to Datasets folder and delete the compressed files."
   ]
  },
  {
   "cell_type": "code",
   "execution_count": null,
   "id": "973ecb5e",
   "metadata": {},
   "outputs": [],
   "source": [
    "# Decompress\n",
    "!tar -xzvf train2017.zip\n",
    "!tar -xzvf val2017.zip\n",
    "!tar -xzvf test2017.zip\n",
    "!tar -xzvf unlabeled2017.zip\n",
    "!tar -xzvf annotations_trainval2017.zip\n",
    "!tar -xzvf stuff_annotations_trainval2017.zip\n",
    "!tar -xzvf image_info_test2017.zip\n",
    "!tar -xzvf image_info_unlabeled2017.zip\n",
    "\n",
    "# Move to Datasets Folder\n",
    "!mv train2017 datasets/train2017\n",
    "!mv val2017 datasets/val2017\n",
    "!mv test2017 datasets/test2017\n",
    "!mv unlabeled2017 datasets/unlabeled2017\n",
    "!mv annotations_trainval2017 annotations/annotations_trainval2017\n",
    "!mv stuff_annotations_trainval2017 annotations/stuff_annotations_trainval2017\n",
    "!mv image_info_test2017 annotations/image_info_test2017\n",
    "!mv image_info_unlabeled2017 annotations/image_info_unlabeled2017\n",
    "\n",
    "# Delete the downloaded compressed file\n",
    "!rm train2017.zip\n",
    "!rm val2017.zip\n",
    "!rm test2017.zip\n",
    "!rm unlabeled2017.zip\n",
    "!rm annotations_trainval2017.zip\n",
    "!rm stuff_annotations_trainval2017.zip\n",
    "!rm image_info_test2017.zip\n",
    "!rm image_info_unlabeled2017.zip"
   ]
  }
 ],
 "metadata": {
  "kernelspec": {
   "display_name": "Python 3 (ipykernel)",
   "language": "python",
   "name": "python3"
  },
  "language_info": {
   "codemirror_mode": {
    "name": "ipython",
    "version": 3
   },
   "file_extension": ".py",
   "mimetype": "text/x-python",
   "name": "python",
   "nbconvert_exporter": "python",
   "pygments_lexer": "ipython3",
   "version": "3.8.12"
  }
 },
 "nbformat": 4,
 "nbformat_minor": 5
}
